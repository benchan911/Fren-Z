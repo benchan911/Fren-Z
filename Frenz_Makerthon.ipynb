{
  "nbformat": 4,
  "nbformat_minor": 0,
  "metadata": {
    "colab": {
      "name": "Frenz Makerthon",
      "provenance": [],
      "collapsed_sections": [
        "_fpiwjggkPoe",
        "y_qTpAhVJeGw",
        "PSp1f1kFlciZ",
        "a7EZpiQDVODs",
        "XlGdTFe0PzT1",
        "xI3DiHOtgkH6",
        "yscQ02MKgpCc"
      ]
    },
    "kernelspec": {
      "name": "python3",
      "display_name": "Python 3"
    },
    "language_info": {
      "name": "python"
    }
  },
  "cells": [
    {
      "cell_type": "markdown",
      "source": [
        "# Fren-Z\n",
        "\n",
        "Interest-based friendship formation for Gen-Zs"
      ],
      "metadata": {
        "id": "As366oX3fANY"
      }
    },
    {
      "cell_type": "markdown",
      "source": [
        "## About Us\n",
        "Interest-based friendship formation for Gen-Zs\n",
        "We are a group of NUS students participating in Makerthon 2022, and we are creating Project Fren-Z for the Gen Zs to make friends within NUS using an interest-based algorithm.\n"
      ],
      "metadata": {
        "id": "LKZBcVXTmKE4"
      }
    },
    {
      "cell_type": "markdown",
      "source": [
        "## Description\n",
        "This notebook contains code to allow users to group individuals based on their interests (top 3) "
      ],
      "metadata": {
        "id": "_fpiwjggkPoe"
      }
    },
    {
      "cell_type": "markdown",
      "source": [
        "To use this notebook\n",
        "\n",
        "* Go to KMeans (Development), to understand the code\n",
        " \n",
        "* Go to KMeans (User), to use the code\n",
        "\n",
        "\n"
      ],
      "metadata": {
        "id": "itHS9QPvoKD8"
      }
    },
    {
      "cell_type": "markdown",
      "source": [
        "# KMeans (Development)"
      ],
      "metadata": {
        "id": "y_qTpAhVJeGw"
      }
    },
    {
      "cell_type": "markdown",
      "source": [
        "## Import Libaries "
      ],
      "metadata": {
        "id": "TwU6zOmuJba5"
      }
    },
    {
      "cell_type": "markdown",
      "source": [
        "## Mounting the drive"
      ],
      "metadata": {
        "id": "PIYuvxgZQjNg"
      }
    },
    {
      "cell_type": "markdown",
      "source": [
        "## Get dataset"
      ],
      "metadata": {
        "id": "PSp1f1kFlciZ"
      }
    },
    {
      "cell_type": "markdown",
      "source": [
        "### Create dataset"
      ],
      "metadata": {
        "id": "a7EZpiQDVODs"
      }
    },
    {
      "cell_type": "code",
      "source": [
        "import csv\n",
        "import random\n",
        "\n",
        "def createSample(n = 30):\n",
        "  out = {}\n",
        "  for i in range(n):\n",
        "    lst = []\n",
        "    while len(lst) < 3:\n",
        "      x = random.randint(1,12)\n",
        "      if x not in lst:\n",
        "        lst.append(x)\n",
        "    out[\"id%d\"%i] = lst\n",
        "  return out\n",
        "\n",
        "createSample()"
      ],
      "metadata": {
        "colab": {
          "base_uri": "https://localhost:8080/"
        },
        "id": "diaSIlehVMop",
        "outputId": "77a9e82e-8205-42fa-884b-e95b20f612e2"
      },
      "execution_count": null,
      "outputs": [
        {
          "output_type": "execute_result",
          "data": {
            "text/plain": [
              "{'id0': [1, 4, 7],\n",
              " 'id1': [12, 7, 4],\n",
              " 'id10': [7, 6, 11],\n",
              " 'id11': [8, 4, 12],\n",
              " 'id12': [11, 12, 3],\n",
              " 'id13': [8, 9, 7],\n",
              " 'id14': [12, 10, 2],\n",
              " 'id15': [8, 12, 9],\n",
              " 'id16': [2, 7, 4],\n",
              " 'id17': [11, 6, 4],\n",
              " 'id18': [4, 6, 9],\n",
              " 'id19': [2, 8, 5],\n",
              " 'id2': [2, 12, 6],\n",
              " 'id20': [10, 6, 1],\n",
              " 'id21': [7, 11, 8],\n",
              " 'id22': [2, 1, 3],\n",
              " 'id23': [3, 8, 11],\n",
              " 'id24': [12, 8, 3],\n",
              " 'id25': [11, 9, 1],\n",
              " 'id26': [8, 5, 11],\n",
              " 'id27': [8, 12, 1],\n",
              " 'id28': [10, 5, 8],\n",
              " 'id29': [6, 5, 3],\n",
              " 'id3': [6, 12, 8],\n",
              " 'id4': [1, 10, 12],\n",
              " 'id5': [1, 12, 4],\n",
              " 'id6': [7, 8, 10],\n",
              " 'id7': [4, 6, 11],\n",
              " 'id8': [3, 4, 12],\n",
              " 'id9': [8, 4, 11]}"
            ]
          },
          "metadata": {},
          "execution_count": 107
        }
      ]
    },
    {
      "cell_type": "markdown",
      "source": [
        "### Load dataset"
      ],
      "metadata": {
        "id": "XlGdTFe0PzT1"
      }
    },
    {
      "cell_type": "markdown",
      "source": [
        "The dataset loaded from the csv file must be in the following format:\n",
        "\n",
        "| Email             | Interests |\n",
        "| ----------------- | ----------- |\n",
        "| test01@u.nus.edu  | [\\\"Dancing\", \"Food\", \"Games\"]       |\n",
        "| test02@u.nus.edu  | [\\\"Community & Engagement\",\"Dancing\", \"Food\"]        |\n",
        "\n",
        "\n",
        "\n",
        "\n"
      ],
      "metadata": {
        "id": "j8X5mN9dgxJb"
      }
    },
    {
      "cell_type": "markdown",
      "source": [
        "![image.png](data:image/png;base64,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)"
      ],
      "metadata": {
        "id": "bpI_NNdHhmkY"
      }
    },
    {
      "cell_type": "code",
      "source": [
        "# Load Label\n",
        "label = {\n",
        "    \"Arts & Culture\": 1,\n",
        "    \"Community & Engagement\": 2,\n",
        "    \"Dancing\": 3,\n",
        "    \"Food\": 4,\n",
        "    \"Games\": 5,\n",
        "    \"Music\": 6,\n",
        "    \"Nature & Animals\": 7,\n",
        "    \"Health & Wellbeing\": 8,\n",
        "    \"Science & Technology\": 9,\n",
        "    \"Sports & Fitness\": 10,\n",
        "    \"Travel & Outdoor Activities\": 11,\n",
        "    \"Writing & Reading\": 12\n",
        "}"
      ],
      "metadata": {
        "id": "SO3dTyOQTe8o"
      },
      "execution_count": null,
      "outputs": []
    },
    {
      "cell_type": "code",
      "source": [
        "# CSV to Dictionary\n",
        "import csv\n",
        "\n",
        "def CSVtoDict2(path = './in.csv', label = {}):\n",
        "\tfile = open(path)\n",
        "\tcsvreader = csv.reader(file,delimiter = ';')\n",
        "\n",
        "\td = {}\n",
        "\n",
        "\trows = []\n",
        "\t\n",
        "\tindex = 0\n",
        "\tfor row in csvreader:\n",
        "\t\tif index == 0:\n",
        "\t\t\tindex = 1\n",
        "\t\t\tcontinue\n",
        "\t\tindex += 1\n",
        "\t\tx, y = row[0].split(',', 1)\n",
        "\t\tlst = []\n",
        "\t\tfor i in label.keys():\n",
        "\t\t\tif y.find(i) != -1:\n",
        "\t\t\t\tlst.append(label[i])\n",
        "\t\td[x+str(index)] = lst\n",
        "\n",
        "\treturn d"
      ],
      "metadata": {
        "id": "yWLeOo7Pr_aU"
      },
      "execution_count": null,
      "outputs": []
    },
    {
      "cell_type": "markdown",
      "source": [
        "## Functions"
      ],
      "metadata": {
        "id": "xI3DiHOtgkH6"
      }
    },
    {
      "cell_type": "code",
      "source": [
        "def encoding(d1):\n",
        "  '''\n",
        "    It encodes interest into 1, 0\n",
        "    From [1, 3, 7] to [1, 0, 1, 0, 0, 0, 1, 0, 0, 0, 0, 0] with a size of 12 for 12 interests\n",
        "  '''\n",
        "  d = {} \n",
        "  for i in d1.keys():\n",
        "    x = d1[i][0]\n",
        "    y = d1[i][1]\n",
        "    z = d1[i][2]\n",
        "    for h in range(1,12+1):\n",
        "      if x != 1 and h == 1:\n",
        "        d[i] = [0]\n",
        "      elif x == 1 and h == 1:\n",
        "        d[i] = [1]\n",
        "      elif h == x or h == y or h == z:\n",
        "        d[i].append(1)\n",
        "      elif h != x or h != y or h != z:\n",
        "        d[i].append(0)\n",
        "  return d"
      ],
      "metadata": {
        "id": "fT0VZJ-UYzGB"
      },
      "execution_count": null,
      "outputs": []
    },
    {
      "cell_type": "code",
      "source": [
        "from k_means_constrained import KMeansConstrained\n",
        "import numpy as np\n",
        "\n",
        "def getGrouping(d, show=False, s_min=4, s_max=6, label={}):\n",
        "  '''\n",
        "    It clusters the data into group of 4 - 6\n",
        "    Features used for clustering depends on the top 3 interest \n",
        "  '''\n",
        "  data = list(d.values())\n",
        "\n",
        "  X = np.array(data)\n",
        "\n",
        "  # Parameter\n",
        "  clf = KMeansConstrained(\n",
        "      n_clusters=len(X)//s_min,       # Set group size \n",
        "      size_min=s_min,                 # Min group size\n",
        "      size_max=s_max,                 # Max group size\n",
        "      random_state=1\n",
        "  )\n",
        "\n",
        "  # Group\n",
        "  result = clf.fit_predict(X)\n",
        "  # print(result)\n",
        "\n",
        "  group = {} # Empty List\n",
        "  keys_list = list(d)\n",
        "\n",
        "  # Iterate through results \n",
        "  for i in range(len(result)):\n",
        "    if result[i] not in group:\n",
        "      group[result[i]] = [keys_list[i]]\n",
        "    else:\n",
        "      group[result[i]].append(keys_list[i])\n",
        "\n",
        "  # Display grouping\n",
        "  if show == True:\n",
        "    for key in sorted(group):\n",
        "        print(\"{}: {}\".format(key, group[key]))\n",
        "        for i in group[key]:\n",
        "          print(\"{}\\t-> {}\".format(i, d[i]))\n",
        "        print('-'*10)\n",
        "\n",
        "        # Get overlapping top interst\n",
        "        lst = []\n",
        "        for i in group[key]:\n",
        "          lst.append(d[i])\n",
        "        \n",
        "        r = []\n",
        "        for i in range(4):\n",
        "          r.append(0)\n",
        "\n",
        "        for j in lst:\n",
        "          # print(j)\n",
        "          for i in range(4):\n",
        "            r[i] += j[i]\n",
        "\n",
        "        print(r)\n",
        "\n",
        "        top = []\n",
        "        max_v = max(r)\n",
        "        for i in range(len(r)):\n",
        "          if r[i] == max_v:\n",
        "            for z in label.keys():\n",
        "              if label[z] == i:\n",
        "                top.append(z)\n",
        "        print(top)\n",
        "\n",
        "  return group, top"
      ],
      "metadata": {
        "id": "5G_xE_J_Yl8o"
      },
      "execution_count": null,
      "outputs": []
    },
    {
      "cell_type": "code",
      "source": [
        "lst = [\n",
        "       [1, 0 , 1, 1],\n",
        "       [1, 0 , 1, 0],\n",
        "       [0, 1 , 0, 0]\n",
        "]\n",
        "\n",
        "r = []\n",
        "for i in range(4):\n",
        "  r.append(0)\n",
        "\n",
        "for j in lst:\n",
        "  # print(j)\n",
        "  for i in range(4):\n",
        "    r[i] += j[i]\n",
        "\n",
        "print(r)\n",
        "\n",
        "max_v = max(r)\n",
        "for i in range(len(r)):\n",
        "  if r[i] == max_v:\n",
        "    print(i)"
      ],
      "metadata": {
        "colab": {
          "base_uri": "https://localhost:8080/"
        },
        "id": "_4S7Igc6oCUR",
        "outputId": "42724623-118c-4d09-f00c-c0b6bb3f8b40"
      },
      "execution_count": null,
      "outputs": [
        {
          "output_type": "stream",
          "name": "stdout",
          "text": [
            "[2, 1, 2, 1]\n",
            "0\n",
            "2\n"
          ]
        }
      ]
    },
    {
      "cell_type": "code",
      "source": [
        "import csv\n",
        "\n",
        "def toCSV(path='./out.csv', x={}):\n",
        "  '''\n",
        "    To write to CSV\n",
        "\n",
        "    Format:\n",
        "      GROUP, ID1, ID2, ID3, ID4, ID5, ID6\n",
        "  '''\n",
        "  with open(path, 'w') as f:\n",
        "    f.write(\"%s,%s,%s,%s,%s,%s,%s\\n\"%(\"group\", \"id1\", \"id2\", \"id3\", \"id4\", \"id5\", \"id6\"))\n",
        "    for key in sorted(x.keys()):\n",
        "      while len(x[key]) < 6:\n",
        "        x[key].append('0')\n",
        "      # print(x[key])\n",
        "      f.write(\"%s,%s,%s,%s,%s,%s,%s\\n\"%(key,x[key][0],x[key][1],x[key][2],x[key][3],x[key][4],x[key][5]))"
      ],
      "metadata": {
        "id": "ip1sM7_OcLJA"
      },
      "execution_count": null,
      "outputs": []
    },
    {
      "cell_type": "markdown",
      "source": [
        "## Driver Code"
      ],
      "metadata": {
        "id": "yscQ02MKgpCc"
      }
    },
    {
      "cell_type": "code",
      "source": [
        "# Driver\n",
        "\n",
        "# d1 = CSVtoDict2(\"new_group.csv\", label) # Read CSV & reduce the label to numbers\n",
        "d1 = createSample() # Test\n",
        "\n",
        "d2 = encoding(d1) # Change Numbers to 1, 0 where 1 = Interested, 0 = Not Interested\n",
        "\n",
        "d3, interests = getGrouping(d=d2, show=True, s_min=4, label=label)\n",
        "\n",
        "toCSV(x=d3)"
      ],
      "metadata": {
        "colab": {
          "base_uri": "https://localhost:8080/"
        },
        "id": "S--omZ7rYsAl",
        "outputId": "7879c8f8-a7c3-4d4e-de87-7cc1510c2128"
      },
      "execution_count": null,
      "outputs": [
        {
          "output_type": "stream",
          "name": "stdout",
          "text": [
            "0: ['id1', 'id6', 'id7', 'id13', 'id17']\n",
            "id1\t-> [0, 0, 1, 0, 1, 0, 0, 0, 0, 1, 0, 0]\n",
            "id6\t-> [0, 0, 0, 0, 1, 0, 1, 0, 1, 0, 0, 0]\n",
            "id7\t-> [0, 0, 0, 0, 1, 0, 0, 0, 0, 1, 0, 0]\n",
            "id13\t-> [0, 0, 0, 1, 1, 0, 0, 0, 0, 1, 0, 0]\n",
            "id17\t-> [0, 0, 0, 0, 1, 1, 0, 0, 0, 1, 0, 0]\n",
            "----------\n",
            "[0, 0, 1, 1]\n",
            "['Community & Engagement', 'Dancing']\n",
            "1: ['id4', 'id8', 'id9', 'id21', 'id28']\n",
            "id4\t-> [0, 0, 0, 0, 0, 0, 1, 0, 1, 0, 0, 1]\n",
            "id8\t-> [0, 0, 0, 0, 0, 0, 0, 0, 1, 0, 1, 1]\n",
            "id9\t-> [0, 0, 0, 0, 0, 0, 0, 1, 1, 0, 0, 1]\n",
            "id21\t-> [0, 0, 0, 0, 0, 1, 0, 0, 1, 0, 0, 1]\n",
            "id28\t-> [0, 0, 1, 0, 0, 0, 0, 0, 1, 0, 0, 1]\n",
            "----------\n",
            "[0, 0, 1, 0]\n",
            "['Community & Engagement']\n",
            "2: ['id11', 'id16', 'id18', 'id26']\n",
            "id11\t-> [0, 1, 0, 0, 1, 0, 0, 0, 0, 0, 0, 0]\n",
            "id16\t-> [0, 1, 0, 0, 1, 0, 0, 0, 1, 0, 0, 0]\n",
            "id18\t-> [0, 1, 0, 0, 1, 0, 0, 0, 0, 0, 1, 0]\n",
            "id26\t-> [0, 1, 0, 0, 1, 0, 0, 1, 0, 0, 0, 0]\n",
            "----------\n",
            "[0, 4, 0, 0]\n",
            "['Arts & Culture']\n",
            "3: ['id3', 'id20', 'id24', 'id25']\n",
            "id3\t-> [0, 1, 1, 0, 0, 0, 0, 0, 0, 0, 0, 0]\n",
            "id20\t-> [0, 1, 0, 1, 0, 0, 0, 0, 0, 0, 0, 0]\n",
            "id24\t-> [0, 0, 0, 1, 0, 0, 0, 0, 1, 0, 1, 0]\n",
            "id25\t-> [0, 1, 0, 1, 0, 1, 0, 0, 0, 0, 0, 0]\n",
            "----------\n",
            "[0, 3, 1, 3]\n",
            "['Arts & Culture', 'Dancing']\n",
            "4: ['id14', 'id19', 'id22', 'id27']\n",
            "id14\t-> [0, 0, 1, 1, 0, 0, 0, 0, 1, 0, 0, 0]\n",
            "id19\t-> [0, 0, 1, 1, 0, 0, 0, 0, 0, 0, 0, 1]\n",
            "id22\t-> [0, 0, 0, 1, 0, 0, 0, 1, 0, 0, 0, 1]\n",
            "id27\t-> [0, 0, 1, 1, 0, 0, 0, 0, 0, 1, 0, 0]\n",
            "----------\n",
            "[0, 0, 3, 4]\n",
            "['Dancing']\n",
            "5: ['id0', 'id15', 'id23', 'id29']\n",
            "id0\t-> [0, 0, 1, 0, 0, 0, 0, 0, 0, 0, 1, 1]\n",
            "id15\t-> [0, 0, 1, 0, 0, 0, 1, 0, 0, 1, 0, 0]\n",
            "id23\t-> [0, 0, 0, 0, 0, 0, 1, 1, 0, 0, 0, 1]\n",
            "id29\t-> [0, 0, 1, 0, 0, 0, 1, 0, 0, 0, 1, 0]\n",
            "----------\n",
            "[0, 0, 3, 0]\n",
            "['Community & Engagement']\n",
            "6: ['id2', 'id5', 'id10', 'id12']\n",
            "id2\t-> [1, 0, 0, 0, 0, 0, 0, 0, 0, 1, 1, 0]\n",
            "id5\t-> [0, 0, 0, 0, 0, 0, 0, 1, 1, 1, 0, 0]\n",
            "id10\t-> [0, 0, 0, 0, 0, 0, 0, 1, 0, 1, 1, 0]\n",
            "id12\t-> [0, 1, 0, 0, 0, 0, 0, 1, 0, 1, 0, 0]\n",
            "----------\n",
            "[1, 1, 0, 0]\n",
            "['Arts & Culture']\n"
          ]
        }
      ]
    },
    {
      "cell_type": "markdown",
      "source": [
        "\n",
        "\n",
        "k-means-contrainted package taken from https://github.com/joshlk/k-means-constrained"
      ],
      "metadata": {
        "id": "QxSy7tqriuoN"
      }
    },
    {
      "cell_type": "markdown",
      "source": [
        "Run code below to import package"
      ],
      "metadata": {
        "id": "LSR8zhuxi7fc"
      }
    },
    {
      "cell_type": "code",
      "execution_count": null,
      "metadata": {
        "id": "_zohnpu5GMBh",
        "colab": {
          "base_uri": "https://localhost:8080/"
        },
        "outputId": "b9530ca9-d4c2-42fd-b9f5-b93f85849eb1"
      },
      "outputs": [
        {
          "output_type": "stream",
          "name": "stdout",
          "text": [
            "Collecting k-means-constrained\n",
            "  Downloading k-means-constrained-0.6.0.tar.gz (557 kB)\n",
            "\u001b[?25l\r\u001b[K     |▋                               | 10 kB 26.7 MB/s eta 0:00:01\r\u001b[K     |█▏                              | 20 kB 32.1 MB/s eta 0:00:01\r\u001b[K     |█▊                              | 30 kB 18.0 MB/s eta 0:00:01\r\u001b[K     |██▍                             | 40 kB 13.5 MB/s eta 0:00:01\r\u001b[K     |███                             | 51 kB 5.4 MB/s eta 0:00:01\r\u001b[K     |███▌                            | 61 kB 6.1 MB/s eta 0:00:01\r\u001b[K     |████▏                           | 71 kB 5.6 MB/s eta 0:00:01\r\u001b[K     |████▊                           | 81 kB 6.3 MB/s eta 0:00:01\r\u001b[K     |█████▎                          | 92 kB 6.0 MB/s eta 0:00:01\r\u001b[K     |█████▉                          | 102 kB 4.9 MB/s eta 0:00:01\r\u001b[K     |██████▌                         | 112 kB 4.9 MB/s eta 0:00:01\r\u001b[K     |███████                         | 122 kB 4.9 MB/s eta 0:00:01\r\u001b[K     |███████▋                        | 133 kB 4.9 MB/s eta 0:00:01\r\u001b[K     |████████▎                       | 143 kB 4.9 MB/s eta 0:00:01\r\u001b[K     |████████▉                       | 153 kB 4.9 MB/s eta 0:00:01\r\u001b[K     |█████████▍                      | 163 kB 4.9 MB/s eta 0:00:01\r\u001b[K     |██████████                      | 174 kB 4.9 MB/s eta 0:00:01\r\u001b[K     |██████████▋                     | 184 kB 4.9 MB/s eta 0:00:01\r\u001b[K     |███████████▏                    | 194 kB 4.9 MB/s eta 0:00:01\r\u001b[K     |███████████▊                    | 204 kB 4.9 MB/s eta 0:00:01\r\u001b[K     |████████████▍                   | 215 kB 4.9 MB/s eta 0:00:01\r\u001b[K     |█████████████                   | 225 kB 4.9 MB/s eta 0:00:01\r\u001b[K     |█████████████▌                  | 235 kB 4.9 MB/s eta 0:00:01\r\u001b[K     |██████████████                  | 245 kB 4.9 MB/s eta 0:00:01\r\u001b[K     |██████████████▊                 | 256 kB 4.9 MB/s eta 0:00:01\r\u001b[K     |███████████████▎                | 266 kB 4.9 MB/s eta 0:00:01\r\u001b[K     |███████████████▉                | 276 kB 4.9 MB/s eta 0:00:01\r\u001b[K     |████████████████▌               | 286 kB 4.9 MB/s eta 0:00:01\r\u001b[K     |█████████████████               | 296 kB 4.9 MB/s eta 0:00:01\r\u001b[K     |█████████████████▋              | 307 kB 4.9 MB/s eta 0:00:01\r\u001b[K     |██████████████████▏             | 317 kB 4.9 MB/s eta 0:00:01\r\u001b[K     |██████████████████▉             | 327 kB 4.9 MB/s eta 0:00:01\r\u001b[K     |███████████████████▍            | 337 kB 4.9 MB/s eta 0:00:01\r\u001b[K     |████████████████████            | 348 kB 4.9 MB/s eta 0:00:01\r\u001b[K     |████████████████████▋           | 358 kB 4.9 MB/s eta 0:00:01\r\u001b[K     |█████████████████████▏          | 368 kB 4.9 MB/s eta 0:00:01\r\u001b[K     |█████████████████████▊          | 378 kB 4.9 MB/s eta 0:00:01\r\u001b[K     |██████████████████████▎         | 389 kB 4.9 MB/s eta 0:00:01\r\u001b[K     |███████████████████████         | 399 kB 4.9 MB/s eta 0:00:01\r\u001b[K     |███████████████████████▌        | 409 kB 4.9 MB/s eta 0:00:01\r\u001b[K     |████████████████████████        | 419 kB 4.9 MB/s eta 0:00:01\r\u001b[K     |████████████████████████▊       | 430 kB 4.9 MB/s eta 0:00:01\r\u001b[K     |█████████████████████████▎      | 440 kB 4.9 MB/s eta 0:00:01\r\u001b[K     |█████████████████████████▉      | 450 kB 4.9 MB/s eta 0:00:01\r\u001b[K     |██████████████████████████▌     | 460 kB 4.9 MB/s eta 0:00:01\r\u001b[K     |███████████████████████████     | 471 kB 4.9 MB/s eta 0:00:01\r\u001b[K     |███████████████████████████▋    | 481 kB 4.9 MB/s eta 0:00:01\r\u001b[K     |████████████████████████████▏   | 491 kB 4.9 MB/s eta 0:00:01\r\u001b[K     |████████████████████████████▉   | 501 kB 4.9 MB/s eta 0:00:01\r\u001b[K     |█████████████████████████████▍  | 512 kB 4.9 MB/s eta 0:00:01\r\u001b[K     |██████████████████████████████  | 522 kB 4.9 MB/s eta 0:00:01\r\u001b[K     |██████████████████████████████▋ | 532 kB 4.9 MB/s eta 0:00:01\r\u001b[K     |███████████████████████████████▏| 542 kB 4.9 MB/s eta 0:00:01\r\u001b[K     |███████████████████████████████▊| 552 kB 4.9 MB/s eta 0:00:01\r\u001b[K     |████████████████████████████████| 557 kB 4.9 MB/s \n",
            "\u001b[?25h  Installing build dependencies ... \u001b[?25l\u001b[?25hdone\n",
            "  Getting requirements to build wheel ... \u001b[?25l\u001b[?25hdone\n",
            "    Preparing wheel metadata ... \u001b[?25l\u001b[?25hdone\n",
            "Collecting ortools>=9.0.9048\n",
            "  Downloading ortools-9.2.9972-cp37-cp37m-manylinux_2_17_x86_64.manylinux2014_x86_64.whl (14.6 MB)\n",
            "\u001b[K     |████████████████████████████████| 14.6 MB 872 kB/s \n",
            "\u001b[?25hCollecting scipy>=1.6.3\n",
            "  Downloading scipy-1.7.3-cp37-cp37m-manylinux_2_12_x86_64.manylinux2010_x86_64.whl (38.1 MB)\n",
            "\u001b[K     |████████████████████████████████| 38.1 MB 1.3 MB/s \n",
            "\u001b[?25hRequirement already satisfied: joblib in /usr/local/lib/python3.7/dist-packages (from k-means-constrained) (1.1.0)\n",
            "Requirement already satisfied: six in /usr/local/lib/python3.7/dist-packages (from k-means-constrained) (1.15.0)\n",
            "Collecting numpy>=1.20.3\n",
            "  Using cached numpy-1.21.5-cp37-cp37m-manylinux_2_12_x86_64.manylinux2010_x86_64.whl (15.7 MB)\n",
            "Collecting protobuf>=3.19.1\n",
            "  Downloading protobuf-3.19.1-cp37-cp37m-manylinux_2_17_x86_64.manylinux2014_x86_64.whl (1.1 MB)\n",
            "\u001b[K     |████████████████████████████████| 1.1 MB 47.5 MB/s \n",
            "\u001b[?25hCollecting absl-py>=0.13\n",
            "  Downloading absl_py-1.0.0-py3-none-any.whl (126 kB)\n",
            "\u001b[K     |████████████████████████████████| 126 kB 53.4 MB/s \n",
            "\u001b[?25hBuilding wheels for collected packages: k-means-constrained\n",
            "  Building wheel for k-means-constrained (PEP 517) ... \u001b[?25l\u001b[?25hdone\n",
            "  Created wheel for k-means-constrained: filename=k_means_constrained-0.6.0-cp37-cp37m-linux_x86_64.whl size=1410488 sha256=1999bfc8c02dc960feb73bebc4955353c32fba55ce36fd53e12e1913fee945c9\n",
            "  Stored in directory: /root/.cache/pip/wheels/c1/71/49/3c504743f39dc4f94af42a1f4fa1ea8a9709c35101402bcd4f\n",
            "Successfully built k-means-constrained\n",
            "Installing collected packages: protobuf, numpy, absl-py, scipy, ortools, k-means-constrained\n",
            "  Attempting uninstall: protobuf\n",
            "    Found existing installation: protobuf 3.17.3\n",
            "    Uninstalling protobuf-3.17.3:\n",
            "      Successfully uninstalled protobuf-3.17.3\n",
            "  Attempting uninstall: numpy\n",
            "    Found existing installation: numpy 1.19.5\n",
            "    Uninstalling numpy-1.19.5:\n",
            "      Successfully uninstalled numpy-1.19.5\n",
            "  Attempting uninstall: absl-py\n",
            "    Found existing installation: absl-py 0.12.0\n",
            "    Uninstalling absl-py-0.12.0:\n",
            "      Successfully uninstalled absl-py-0.12.0\n",
            "  Attempting uninstall: scipy\n",
            "    Found existing installation: scipy 1.4.1\n",
            "    Uninstalling scipy-1.4.1:\n",
            "      Successfully uninstalled scipy-1.4.1\n",
            "\u001b[31mERROR: pip's dependency resolver does not currently take into account all the packages that are installed. This behaviour is the source of the following dependency conflicts.\n",
            "yellowbrick 1.3.post1 requires numpy<1.20,>=1.16.0, but you have numpy 1.21.5 which is incompatible.\n",
            "tensorflow-metadata 1.4.0 requires absl-py<0.13,>=0.9, but you have absl-py 1.0.0 which is incompatible.\n",
            "datascience 0.10.6 requires folium==0.2.1, but you have folium 0.8.3 which is incompatible.\n",
            "albumentations 0.1.12 requires imgaug<0.2.7,>=0.2.5, but you have imgaug 0.2.9 which is incompatible.\u001b[0m\n",
            "Successfully installed absl-py-1.0.0 k-means-constrained-0.6.0 numpy-1.21.5 ortools-9.2.9972 protobuf-3.19.1 scipy-1.7.3\n"
          ]
        },
        {
          "output_type": "display_data",
          "data": {
            "application/vnd.colab-display-data+json": {
              "pip_warning": {
                "packages": [
                  "google",
                  "numpy"
                ]
              }
            }
          },
          "metadata": {}
        }
      ],
      "source": [
        "!pip install k-means-constrained"
      ]
    },
    {
      "cell_type": "markdown",
      "source": [
        "Run code below to mount drive to allow to use file from drive"
      ],
      "metadata": {
        "id": "PIT3LX0Ti92G"
      }
    },
    {
      "cell_type": "code",
      "source": [
        "from google.colab import drive\n",
        "drive.mount('/content/gdrive')"
      ],
      "metadata": {
        "colab": {
          "base_uri": "https://localhost:8080/"
        },
        "id": "EYg1n09iQlRh",
        "outputId": "0ceb0a40-223e-4f75-e44a-c469add383ae"
      },
      "execution_count": null,
      "outputs": [
        {
          "output_type": "stream",
          "name": "stdout",
          "text": [
            "Mounted at /content/gdrive\n"
          ]
        }
      ]
    },
    {
      "cell_type": "markdown",
      "source": [
        "# KMeans (User)"
      ],
      "metadata": {
        "id": "NtkeMSWLltuc"
      }
    },
    {
      "cell_type": "markdown",
      "source": [
        "## 1. Setup"
      ],
      "metadata": {
        "id": "EHW6ebG2mDFV"
      }
    },
    {
      "cell_type": "code",
      "source": [
        "# Install Package\n",
        "!pip install k-means-constrained\n",
        "\n",
        "# Mount Drive\n",
        "from google.colab import drive\n",
        "drive.mount('/content/gdrive')"
      ],
      "metadata": {
        "id": "dJ15MG05lvIk",
        "colab": {
          "base_uri": "https://localhost:8080/"
        },
        "outputId": "f3c983e8-45b5-4d09-a851-92e02b7c6916"
      },
      "execution_count": null,
      "outputs": [
        {
          "output_type": "stream",
          "name": "stdout",
          "text": [
            "Collecting k-means-constrained\n",
            "  Downloading k-means-constrained-0.6.0.tar.gz (557 kB)\n",
            "\u001b[K     |████████████████████████████████| 557 kB 5.0 MB/s \n",
            "\u001b[?25h  Installing build dependencies ... \u001b[?25l\u001b[?25hdone\n",
            "  Getting requirements to build wheel ... \u001b[?25l\u001b[?25hdone\n",
            "    Preparing wheel metadata ... \u001b[?25l\u001b[?25hdone\n",
            "Collecting ortools>=9.0.9048\n",
            "  Downloading ortools-9.2.9972-cp37-cp37m-manylinux_2_17_x86_64.manylinux2014_x86_64.whl (14.6 MB)\n",
            "\u001b[K     |████████████████████████████████| 14.6 MB 57.7 MB/s \n",
            "\u001b[?25hCollecting numpy>=1.20.3\n",
            "  Using cached numpy-1.21.5-cp37-cp37m-manylinux_2_12_x86_64.manylinux2010_x86_64.whl (15.7 MB)\n",
            "Requirement already satisfied: six in /usr/local/lib/python3.7/dist-packages (from k-means-constrained) (1.15.0)\n",
            "Requirement already satisfied: joblib in /usr/local/lib/python3.7/dist-packages (from k-means-constrained) (1.1.0)\n",
            "Collecting scipy>=1.6.3\n",
            "  Downloading scipy-1.7.3-cp37-cp37m-manylinux_2_12_x86_64.manylinux2010_x86_64.whl (38.1 MB)\n",
            "\u001b[K     |████████████████████████████████| 38.1 MB 1.2 MB/s \n",
            "\u001b[?25hCollecting protobuf>=3.19.1\n",
            "  Downloading protobuf-3.19.1-cp37-cp37m-manylinux_2_17_x86_64.manylinux2014_x86_64.whl (1.1 MB)\n",
            "\u001b[K     |████████████████████████████████| 1.1 MB 47.1 MB/s \n",
            "\u001b[?25hCollecting absl-py>=0.13\n",
            "  Downloading absl_py-1.0.0-py3-none-any.whl (126 kB)\n",
            "\u001b[K     |████████████████████████████████| 126 kB 54.3 MB/s \n",
            "\u001b[?25hBuilding wheels for collected packages: k-means-constrained\n",
            "  Building wheel for k-means-constrained (PEP 517) ... \u001b[?25l\u001b[?25hdone\n",
            "  Created wheel for k-means-constrained: filename=k_means_constrained-0.6.0-cp37-cp37m-linux_x86_64.whl size=1410485 sha256=4984d52e0d9b192f185a48bc2c2c8e138307cd6f8d105d2100e5023ea7d67eba\n",
            "  Stored in directory: /root/.cache/pip/wheels/c1/71/49/3c504743f39dc4f94af42a1f4fa1ea8a9709c35101402bcd4f\n",
            "Successfully built k-means-constrained\n",
            "Installing collected packages: protobuf, numpy, absl-py, scipy, ortools, k-means-constrained\n",
            "  Attempting uninstall: protobuf\n",
            "    Found existing installation: protobuf 3.17.3\n",
            "    Uninstalling protobuf-3.17.3:\n",
            "      Successfully uninstalled protobuf-3.17.3\n",
            "  Attempting uninstall: numpy\n",
            "    Found existing installation: numpy 1.19.5\n",
            "    Uninstalling numpy-1.19.5:\n",
            "      Successfully uninstalled numpy-1.19.5\n",
            "  Attempting uninstall: absl-py\n",
            "    Found existing installation: absl-py 0.12.0\n",
            "    Uninstalling absl-py-0.12.0:\n",
            "      Successfully uninstalled absl-py-0.12.0\n",
            "  Attempting uninstall: scipy\n",
            "    Found existing installation: scipy 1.4.1\n",
            "    Uninstalling scipy-1.4.1:\n",
            "      Successfully uninstalled scipy-1.4.1\n",
            "\u001b[31mERROR: pip's dependency resolver does not currently take into account all the packages that are installed. This behaviour is the source of the following dependency conflicts.\n",
            "yellowbrick 1.3.post1 requires numpy<1.20,>=1.16.0, but you have numpy 1.21.5 which is incompatible.\n",
            "tensorflow-metadata 1.4.0 requires absl-py<0.13,>=0.9, but you have absl-py 1.0.0 which is incompatible.\n",
            "datascience 0.10.6 requires folium==0.2.1, but you have folium 0.8.3 which is incompatible.\n",
            "albumentations 0.1.12 requires imgaug<0.2.7,>=0.2.5, but you have imgaug 0.2.9 which is incompatible.\u001b[0m\n",
            "Successfully installed absl-py-1.0.0 k-means-constrained-0.6.0 numpy-1.21.5 ortools-9.2.9972 protobuf-3.19.1 scipy-1.7.3\n"
          ]
        },
        {
          "output_type": "display_data",
          "data": {
            "application/vnd.colab-display-data+json": {
              "pip_warning": {
                "packages": [
                  "google",
                  "numpy"
                ]
              }
            }
          },
          "metadata": {}
        },
        {
          "output_type": "stream",
          "name": "stdout",
          "text": [
            "Mounted at /content/gdrive\n"
          ]
        }
      ]
    },
    {
      "cell_type": "markdown",
      "source": [
        "## 2. Insert new data file\n",
        "\n",
        "**Add** file as `data.csv`\n",
        "\n",
        "The dataset loaded from the csv file must be in the following format:\n",
        "\n",
        "| Email             | Interests |\n",
        "| ----------------- | ----------- |\n",
        "| test01@u.nus.edu  | [\\\"Dancing\", \"Food\", \"Games\"]       |\n",
        "| test02@u.nus.edu  | [\\\"Community & Engagement\",\"Dancing\", \"Food\"]        |\n"
      ],
      "metadata": {
        "id": "LdV9SwNHmGcz"
      }
    },
    {
      "cell_type": "markdown",
      "source": [
        "## 3. Run the cell below"
      ],
      "metadata": {
        "id": "5vQt4D_2mEa7"
      }
    },
    {
      "cell_type": "code",
      "source": [
        "# Load Label\n",
        "label = {\n",
        "    \"Arts & Culture\": 1,\n",
        "    \"Community & Engagement\": 2,\n",
        "    \"Dancing\": 3,\n",
        "    \"Food\": 4,\n",
        "    \"Games\": 5,\n",
        "    \"Music\": 6,\n",
        "    \"Nature & Animals\": 7,\n",
        "    \"Health & Wellbeing\": 8,\n",
        "    \"Science & Technology\": 9,\n",
        "    \"Sports & Fitness\": 10,\n",
        "    \"Travel & Outdoor Activities\": 11,\n",
        "    \"Writing & Reading\": 12\n",
        "}\n",
        "\n",
        "# CSV to Dictionary\n",
        "import csv\n",
        "\n",
        "def CSVtoDict2(path = './in.csv', label = {}):\n",
        "\tfile = open(path)\n",
        "\tcsvreader = csv.reader(file,delimiter = ';')\n",
        "\n",
        "\td = {}\n",
        "\n",
        "\trows = []\n",
        "\t\n",
        "\tindex = 0\n",
        "\tfor row in csvreader:\n",
        "\t\tif index == 0:\n",
        "\t\t\tindex = 1\n",
        "\t\t\tcontinue\n",
        "\t\tindex += 1\n",
        "\t\tx, y = row[0].split(',', 1)\n",
        "\t\tlst = []\n",
        "\t\tfor i in label.keys():\n",
        "\t\t\tif y.find(i) != -1:\n",
        "\t\t\t\tlst.append(label[i])\n",
        "\t\td[x] = lst\n",
        "\n",
        "\treturn d\n",
        "\n",
        "def encoding(d1):\n",
        "  '''\n",
        "    It encodes interest into 1, 0\n",
        "    From [1, 3, 7] to [1, 0, 1, 0, 0, 0, 1, 0, 0, 0, 0, 0] with a size of 12 for 12 interests\n",
        "  '''\n",
        "  d = {} \n",
        "  for i in d1.keys():\n",
        "    x = d1[i][0]\n",
        "    y = d1[i][1]\n",
        "    z = d1[i][2]\n",
        "    for h in range(1,12+1):\n",
        "      if x != 1 and h == 1:\n",
        "        d[i] = [0]\n",
        "      elif x == 1 and h == 1:\n",
        "        d[i] = [1]\n",
        "      elif h == x or h == y or h == z:\n",
        "        d[i].append(1)\n",
        "      elif h != x or h != y or h != z:\n",
        "        d[i].append(0)\n",
        "  return d\n",
        "\n",
        "from k_means_constrained import KMeansConstrained\n",
        "import numpy as np\n",
        "\n",
        "def getGrouping(d, show=False, s_min=3, s_max=5):\n",
        "  '''\n",
        "    It clusters the data into group of 3 - 5\n",
        "    Features used for clustering depends on the top 3 interest \n",
        "  '''\n",
        "  data = list(d.values())\n",
        "\n",
        "  X = np.array(data)\n",
        "\n",
        "  # Parameter\n",
        "  clf = KMeansConstrained(\n",
        "      n_clusters=len(X)//s_min,       # Set group size \n",
        "      size_min=s_min,                 # Min group size\n",
        "      size_max=s_max,                 # Max group size\n",
        "      random_state=1\n",
        "  )\n",
        "\n",
        "  # Group\n",
        "  result = clf.fit_predict(X)\n",
        "  # print(result)\n",
        "\n",
        "  group = {} # Empty List\n",
        "  keys_list = list(d)\n",
        "\n",
        "  # Iterate through results \n",
        "  for i in range(len(result)):\n",
        "    if result[i] not in group:\n",
        "      group[result[i]] = [keys_list[i]]\n",
        "    else:\n",
        "      group[result[i]].append(keys_list[i])\n",
        "\n",
        "  # Display grouping\n",
        "  if show == True:\n",
        "    for key in sorted(group):\n",
        "        print(\"{}: {}\".format(key, group[key]))\n",
        "        for i in group[key]:\n",
        "          print(\"{}\\t-> {}\".format(i, d[i]))\n",
        "        print('-'*10)\n",
        "  \n",
        "  return group\n",
        "\n",
        "import csv\n",
        "\n",
        "def toCSV(path='./results.csv', x={}):\n",
        "  '''\n",
        "    To write to CSV\n",
        "\n",
        "    Format:\n",
        "      GROUP, ID1, ID2, ID3, ID4, ID5, ID6\n",
        "  '''\n",
        "  with open(path, 'w') as f:\n",
        "    f.write(\"%s,%s,%s,%s,%s,%s,%s\\n\"%(\"group\", \"id1\", \"id2\", \"id3\", \"id4\", \"id5\", \"id6\"))\n",
        "    for key in sorted(x.keys()):\n",
        "      while len(x[key]) < 6:\n",
        "        x[key].append('0')\n",
        "      # print(x[key])\n",
        "      f.write(\"%s,%s,%s,%s,%s,%s,%s\\n\"%(key,x[key][0],x[key][1],x[key][2],x[key][3],x[key][4],x[key][5]))\n",
        "\n",
        "# DRIVER\n",
        "\n",
        "d1 = CSVtoDict2(\"data.csv\", label) # Read CSV & reduce the label to numbers\n",
        "\n",
        "d2 = encoding(d1) # Change Numbers to 1, 0 where 1 = Interested, 0 = Not Interested\n",
        "\n",
        "d3 = getGrouping(d=d2, show=True, s_min=3)\n",
        "\n",
        "toCSV(x=d3)"
      ],
      "metadata": {
        "colab": {
          "base_uri": "https://localhost:8080/"
        },
        "id": "ZnwoacZBlzDd",
        "outputId": "07b8ee04-148d-4bde-e0fb-d22de8a6bf14"
      },
      "execution_count": null,
      "outputs": [
        {
          "output_type": "stream",
          "name": "stdout",
          "text": [
            "0: ['0test01@u.nus.edu', '2test01@u.nus.edu', '3test01@u.nus.edu', '19test01@u.nus.edu']\n",
            "0test01@u.nus.edu\t-> [0, 0, 1, 1, 1, 0, 0, 0, 0, 0, 0, 0]\n",
            "2test01@u.nus.edu\t-> [0, 0, 1, 1, 1, 0, 0, 0, 0, 0, 0, 0]\n",
            "3test01@u.nus.edu\t-> [0, 0, 1, 1, 1, 0, 0, 0, 0, 0, 0, 0]\n",
            "19test01@u.nus.edu\t-> [0, 0, 1, 1, 1, 0, 0, 0, 0, 0, 0, 0]\n",
            "----------\n",
            "1: ['9test01@u.nus.edu', '10test01@u.nus.edu', '11test01@u.nus.edu']\n",
            "9test01@u.nus.edu\t-> [0, 0, 0, 0, 0, 0, 1, 1, 1, 0, 0, 0]\n",
            "10test01@u.nus.edu\t-> [0, 0, 0, 0, 0, 0, 1, 1, 1, 0, 0, 0]\n",
            "11test01@u.nus.edu\t-> [0, 0, 0, 0, 0, 0, 1, 1, 1, 0, 0, 0]\n",
            "----------\n",
            "2: ['15test01@u.nus.edu', '16test01@u.nus.edu', '17test01@u.nus.edu', '18test01@u.nus.edu']\n",
            "15test01@u.nus.edu\t-> [1, 1, 1, 0, 0, 0, 0, 0, 0, 0, 0, 0]\n",
            "16test01@u.nus.edu\t-> [1, 1, 1, 0, 0, 0, 0, 0, 0, 0, 0, 0]\n",
            "17test01@u.nus.edu\t-> [1, 1, 1, 0, 0, 0, 0, 0, 0, 0, 0, 0]\n",
            "18test01@u.nus.edu\t-> [1, 1, 1, 0, 0, 0, 0, 0, 0, 0, 0, 0]\n",
            "----------\n",
            "3: ['8test01@u.nus.edu', '12test01@u.nus.edu', '13test01@u.nus.edu']\n",
            "8test01@u.nus.edu\t-> [0, 1, 0, 0, 0, 0, 1, 1, 0, 0, 0, 0]\n",
            "12test01@u.nus.edu\t-> [0, 0, 0, 0, 0, 0, 0, 0, 0, 1, 1, 1]\n",
            "13test01@u.nus.edu\t-> [0, 0, 0, 0, 0, 0, 0, 0, 0, 1, 1, 1]\n",
            "----------\n",
            "4: ['1test01@u.nus.edu', '6test01@u.nus.edu', '7test01@u.nus.edu']\n",
            "1test01@u.nus.edu\t-> [0, 1, 1, 1, 0, 0, 0, 0, 0, 0, 0, 0]\n",
            "6test01@u.nus.edu\t-> [0, 1, 1, 1, 0, 0, 0, 0, 0, 0, 0, 0]\n",
            "7test01@u.nus.edu\t-> [0, 1, 1, 1, 0, 0, 0, 0, 0, 0, 0, 0]\n",
            "----------\n",
            "5: ['4test01@u.nus.edu', '5test01@u.nus.edu', '14test01@u.nus.edu']\n",
            "4test01@u.nus.edu\t-> [0, 0, 1, 1, 1, 0, 0, 0, 0, 0, 0, 0]\n",
            "5test01@u.nus.edu\t-> [0, 0, 1, 1, 1, 0, 0, 0, 0, 0, 0, 0]\n",
            "14test01@u.nus.edu\t-> [0, 0, 1, 0, 0, 1, 0, 0, 0, 1, 0, 0]\n",
            "----------\n"
          ]
        }
      ]
    },
    {
      "cell_type": "markdown",
      "source": [
        "## 4. View results\n",
        "\n",
        "**View** file is `results.csv`"
      ],
      "metadata": {
        "id": "PWt61BTumknc"
      }
    },
    {
      "cell_type": "markdown",
      "source": [
        "## 5. Understanding results"
      ],
      "metadata": {
        "id": "ludI_eFaXMM3"
      }
    },
    {
      "cell_type": "code",
      "source": [
        "import numpy as np\n",
        "import seaborn as sns\n",
        "\n",
        "def getHeatMap(d3, labels):\n",
        "  \"\"\"\n",
        "    Get Top Interests\n",
        "  \"\"\"\n",
        "  sns.set_theme()\n",
        "  sns.color_palette(\"ch:start=.2,rot=-.3\", as_cmap=True)\n",
        "\n",
        "  \n",
        "  d3 = dict(sorted(d3.items()))\n",
        "  for index in range(len(d3)):\n",
        "    comp = []\n",
        "    for i in d3[index]:\n",
        "      if i != '0':\n",
        "        comp.append(d2[i])\n",
        "\n",
        "    r = []\n",
        "    for i in range(12):\n",
        "      r.append(0)\n",
        "      for j in range(len(comp)):\n",
        "        r[i] += comp[j][i]\n",
        "      r[i] = round(r[i]/len(comp), 2)\n",
        "    \n",
        "    # print(r)\n",
        "    # Get top interests \n",
        "    interests = []\n",
        "    max_v = max(r)\n",
        "    indexes = []\n",
        "    for j in range(len(r)):\n",
        "      if r[j] == max_v:\n",
        "        indexes.append(j)\n",
        "    \n",
        "    for k1 in labels.keys():\n",
        "      for k2 in indexes:\n",
        "        if labels[k1] == k2:\n",
        "          interests.append(k1)\n",
        "    \n",
        "    print(\"Group {} top interest is {}\".format(list(d3.keys())[index], ', '.join(interests[:3])))\n",
        "    uniform_data = np.array(comp)\n",
        "  \n",
        "    # if index == 0:\n",
        "      # ax = sns.heatmap(uniform_data, cmap=\"Blues\")\n",
        "\n",
        "getHeatMap(d3, label)"
      ],
      "metadata": {
        "colab": {
          "base_uri": "https://localhost:8080/"
        },
        "id": "EA-sLAI8XLfU",
        "outputId": "5fdcc1bf-4b2a-4028-beef-f5185999ee63"
      },
      "execution_count": null,
      "outputs": [
        {
          "output_type": "stream",
          "name": "stdout",
          "text": [
            "Group 0 top interest is Community & Engagement, Dancing, Food\n",
            "Group 1 top interest is Music, Nature & Animals, Health & Wellbeing\n",
            "Group 2 top interest is Arts & Culture, Community & Engagement\n",
            "Group 3 top interest is Science & Technology, Sports & Fitness, Travel & Outdoor Activities\n",
            "Group 4 top interest is Arts & Culture, Community & Engagement, Dancing\n",
            "Group 5 top interest is Community & Engagement\n"
          ]
        }
      ]
    }
  ]
}